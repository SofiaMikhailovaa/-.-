{
 "cells": [
  {
   "cell_type": "markdown",
   "id": "7cab8301-1c41-4dc0-8565-c4065590f452",
   "metadata": {},
   "source": [
    "Install sympy library (if required)\n",
    "\n",
    "`pip install sympy`\n",
    "\n",
    "SymPy is Python's library for symbolic mathematics."
   ]
  },
  {
   "cell_type": "code",
   "execution_count": 1,
   "id": "dc69e98b-6449-4178-818c-37463300b77f",
   "metadata": {},
   "outputs": [],
   "source": [
    "import sympy as s"
   ]
  },
  {
   "cell_type": "markdown",
   "id": "0dba1acb-30da-4132-93bc-f570d10c82c3",
   "metadata": {},
   "source": [
    "We can create an arbitrary expression like so:"
   ]
  },
  {
   "cell_type": "code",
   "execution_count": 2,
   "id": "fe667d9c-bac5-4920-9a98-f7e6a49f5962",
   "metadata": {},
   "outputs": [],
   "source": [
    "x = s.Symbol(\"x\")\n",
    "y = s.Symbol(\"y\")\n",
    "expr = x*y + 3"
   ]
  },
  {
   "cell_type": "markdown",
   "id": "89401a7d-d202-4478-9a66-5fab1a5cf247",
   "metadata": {},
   "source": [
    "For now we are interested in SymPy's expression trees (https://docs.sympy.org/latest/tutorials/intro-tutorial/manipulation.html) - these allow us to draw a computation graph for an arbitrary expression.\n",
    "\n",
    "SymPy's `srepr` function can print us such a graph:"
   ]
  },
  {
   "cell_type": "code",
   "execution_count": 3,
   "id": "73a6c9cf-2bf8-4025-b526-f65655a976ab",
   "metadata": {},
   "outputs": [
    {
     "data": {
      "text/plain": [
       "\"Add(Mul(Symbol('x'), Symbol('y')), Integer(3))\""
      ]
     },
     "execution_count": 3,
     "metadata": {},
     "output_type": "execute_result"
    }
   ],
   "source": [
    "s.srepr(expr)"
   ]
  },
  {
   "cell_type": "markdown",
   "id": "c54023f1-d526-44d1-9a8b-c685cadd0770",
   "metadata": {},
   "source": [
    "Note that we basically have a deeply-nested tree structure here.\n",
    "\n",
    "We can recurse through this tree: https://docs.sympy.org/latest/tutorials/intro-tutorial/manipulation.html#recursing-through-an-expression-tree.\n",
    "\n",
    "**Exercise**: use an example in the \"Walking the Tree\" section from above link to implement Python code that will:\n",
    "1. Recurse through an arbitrary expression tree and collect (parent, child) pairs (`(func, args[i])` pairs).\n",
    "2. Print out a list of nodes in Tikz format, for example:\n",
    "   ```\n",
    "     a -> b;\n",
    "     b -> {c, d, e};\n",
    "     a -> f;\n",
    "   ```\n",
    "   where instead of `a`, `b`, and so on, there will be math expressions.\n",
    "3. Verify that the graph is displayed by using the template here: https://www.overleaf.com/project/6613f56ba03909e4a99556a8"
   ]
  },
  {
   "cell_type": "markdown",
   "id": "e975408f-39f4-4c33-8deb-5b44bbbfe3b5",
   "metadata": {},
   "source": [
    "### Notes on Tikz tree drawing:\n",
    "1. Please switch LaTeX engine to LuaTeX: https://www.overleaf.com/learn/how-to/Changing_compiler\n",
    "2. Note that parent->child relationships are created like so:\n",
    "   ```\n",
    "   parent -> child;\n",
    "   ```\n",
    "   or\n",
    "   ```\n",
    "   parent -> {child1, child2, ...}\n",
    "   ```\n",
    "   for multiple children\n",
    "3. Same nodes can be repeated on multiple lines - Tikz's algorithm will take care of that.\n",
    "4. Custom labels can be set via `b/\"Custom label\"` syntax. This custom label can be set only once when the node is first mentioned.\n",
    "5. More info here: https://tikz.dev/gd-trees"
   ]
  },
  {
   "cell_type": "markdown",
   "id": "4d25e756",
   "metadata": {},
   "source": [
    "### Writing function to get the all parents and children from the expression"
   ]
  },
  {
   "cell_type": "code",
   "execution_count": 4,
   "id": "ac6a0fb4-679d-44a7-818e-bd88bf69a96f",
   "metadata": {},
   "outputs": [],
   "source": [
    "parent_child_list = []\n",
    "def pre(expr):\n",
    "    parent_child_list.append((expr.func, expr.args))\n",
    "    print(parent_child_list)\n",
    "    for i in expr.args:\n",
    "        pre(i)"
   ]
  },
  {
   "cell_type": "markdown",
   "id": "68d7e20c",
   "metadata": {},
   "source": [
    "### Example:"
   ]
  },
  {
   "cell_type": "code",
   "execution_count": 5,
   "id": "7b50f986",
   "metadata": {},
   "outputs": [
    {
     "name": "stdout",
     "output_type": "stream",
     "text": [
      "[(<class 'sympy.core.add.Add'>, (3, x*y))]\n",
      "[(<class 'sympy.core.add.Add'>, (3, x*y)), (<class 'sympy.core.numbers.Integer'>, ())]\n",
      "[(<class 'sympy.core.add.Add'>, (3, x*y)), (<class 'sympy.core.numbers.Integer'>, ()), (<class 'sympy.core.mul.Mul'>, (x, y))]\n",
      "[(<class 'sympy.core.add.Add'>, (3, x*y)), (<class 'sympy.core.numbers.Integer'>, ()), (<class 'sympy.core.mul.Mul'>, (x, y)), (<class 'sympy.core.symbol.Symbol'>, ())]\n",
      "[(<class 'sympy.core.add.Add'>, (3, x*y)), (<class 'sympy.core.numbers.Integer'>, ()), (<class 'sympy.core.mul.Mul'>, (x, y)), (<class 'sympy.core.symbol.Symbol'>, ()), (<class 'sympy.core.symbol.Symbol'>, ())]\n"
     ]
    }
   ],
   "source": [
    "pre(x*y + 3)"
   ]
  },
  {
   "cell_type": "code",
   "execution_count": 6,
   "id": "80ff66c3",
   "metadata": {
    "scrolled": true
   },
   "outputs": [
    {
     "data": {
      "text/plain": [
       "[(sympy.core.add.Add, (3, x*y)),\n",
       " (sympy.core.numbers.Integer, ()),\n",
       " (sympy.core.mul.Mul, (x, y)),\n",
       " (sympy.core.symbol.Symbol, ()),\n",
       " (sympy.core.symbol.Symbol, ())]"
      ]
     },
     "execution_count": 6,
     "metadata": {},
     "output_type": "execute_result"
    }
   ],
   "source": [
    "parent_child_list"
   ]
  },
  {
   "cell_type": "markdown",
   "id": "3163f216",
   "metadata": {},
   "source": [
    "### Printing it out in Tikz format:"
   ]
  },
  {
   "cell_type": "code",
   "execution_count": 7,
   "id": "2b3deb57",
   "metadata": {},
   "outputs": [],
   "source": [
    "def output(parent_child_list):\n",
    "    for parent, child in parent_child_list:\n",
    "        print(f\"parent: {parent} -> child: {child}\")\n"
   ]
  },
  {
   "cell_type": "code",
   "execution_count": 8,
   "id": "f01aa326",
   "metadata": {
    "scrolled": true
   },
   "outputs": [
    {
     "name": "stdout",
     "output_type": "stream",
     "text": [
      "parent: <class 'sympy.core.add.Add'> -> child: (3, x*y)\n",
      "parent: <class 'sympy.core.numbers.Integer'> -> child: ()\n",
      "parent: <class 'sympy.core.mul.Mul'> -> child: (x, y)\n",
      "parent: <class 'sympy.core.symbol.Symbol'> -> child: ()\n",
      "parent: <class 'sympy.core.symbol.Symbol'> -> child: ()\n"
     ]
    }
   ],
   "source": [
    "output(parent_child_list)"
   ]
  }
 ],
 "metadata": {
  "kernelspec": {
   "display_name": "Python 3 (ipykernel)",
   "language": "python",
   "name": "python3"
  },
  "language_info": {
   "codemirror_mode": {
    "name": "ipython",
    "version": 3
   },
   "file_extension": ".py",
   "mimetype": "text/x-python",
   "name": "python",
   "nbconvert_exporter": "python",
   "pygments_lexer": "ipython3",
   "version": "3.10.9"
  }
 },
 "nbformat": 4,
 "nbformat_minor": 5
}
