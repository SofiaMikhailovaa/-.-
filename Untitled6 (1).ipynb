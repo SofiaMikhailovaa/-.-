{
 "cells": [
  {
   "cell_type": "code",
   "execution_count": 4,
   "id": "78adddb9",
   "metadata": {},
   "outputs": [
    {
     "name": "stdout",
     "output_type": "stream",
     "text": [
      "All movies: [(' Divergent', '2014', ' Neil Burger', 'Sci-Fi', None)]\n"
     ]
    }
   ],
   "source": [
    "import sqlite3\n",
    "\n",
    "class Movie:\n",
    "    def __init__(self, title, director, genre, year, rating=None):\n",
    "        self.title = title\n",
    "        self.director = director\n",
    "        self.genre = genre\n",
    "        self.year = year\n",
    "        self.rating = rating\n",
    "\n",
    "    @staticmethod\n",
    "    def create_table():\n",
    "        conn = sqlite3.connect('movies.db')\n",
    "        c = conn.cursor()\n",
    "        c.execute('''CREATE TABLE IF NOT EXISTS MOVIES\n",
    "                     (TITLE TEXT, DIRECTOR TEXT, GENRE TEXT, YEAR INTEGER, RATING REAL)''')\n",
    "        conn.commit()\n",
    "        conn.close()\n",
    "\n",
    "    def insert_record(self):\n",
    "        conn = sqlite3.connect('movies.db')\n",
    "        c = conn.cursor()\n",
    "        c.execute(\"INSERT INTO MOVIES VALUES (?, ?, ?, ?, ?)\",\n",
    "                  (self.title, self.director, self.genre, self.year, self.rating))\n",
    "        conn.commit()\n",
    "        conn.close()\n",
    "\n",
    "    @staticmethod\n",
    "    def select_all():\n",
    "        conn = sqlite3.connect('movies.db')\n",
    "        c = conn.cursor()\n",
    "        c.execute(\"SELECT * FROM MOVIES\")\n",
    "        rows = c.fetchall()\n",
    "        conn.close()\n",
    "        return rows\n",
    "\n",
    "    def update_record(self, new_rating):\n",
    "        conn = sqlite3.connect('movies.db')\n",
    "        c = conn.cursor()\n",
    "        c.execute(\"UPDATE MOVIES SET RATING = ? WHERE TITLE = ?\", (new_rating, self.title))\n",
    "        conn.commit()\n",
    "        conn.close()\n",
    "\n",
    "    def delete_record(self):\n",
    "        conn = sqlite3.connect('movies.db')\n",
    "        c = conn.cursor()\n",
    "        c.execute(\"DELETE FROM MOVIES WHERE TITLE = ?\", (self.title,))\n",
    "        conn.commit()\n",
    "        conn.close()\n",
    "\n",
    "Movie.create_table()\n",
    "\n",
    "\n",
    "if __name__ == \"__main__\":\n",
    "    movie = Movie(\" Divergent\", 2014,\" Neil Burger\",\"Sci-Fi\")\n",
    "    movie.insert_record()\n",
    "\n",
    "    all_movies = Movie.select_all()\n",
    "    print(\"All movies:\", all_movies)\n",
    "\n",
    "    movie.update_record(9.0)\n",
    "\n",
    "    movie.delete_record()\n"
   ]
  },
  {
   "cell_type": "code",
   "execution_count": null,
   "id": "d4d0a5b0",
   "metadata": {},
   "outputs": [],
   "source": []
  }
 ],
 "metadata": {
  "kernelspec": {
   "display_name": "Python 3 (ipykernel)",
   "language": "python",
   "name": "python3"
  },
  "language_info": {
   "codemirror_mode": {
    "name": "ipython",
    "version": 3
   },
   "file_extension": ".py",
   "mimetype": "text/x-python",
   "name": "python",
   "nbconvert_exporter": "python",
   "pygments_lexer": "ipython3",
   "version": "3.10.9"
  }
 },
 "nbformat": 4,
 "nbformat_minor": 5
}
